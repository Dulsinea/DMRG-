{
 "cells": [
  {
   "cell_type": "markdown",
   "id": "3c9e99b0",
   "metadata": {
    "slideshow": {
     "slide_type": "slide"
    }
   },
   "source": [
    "# <center>使用CI方法求解一维ising模型精确基态能量</center>"
   ]
  },
  {
   "cell_type": "markdown",
   "id": "0c5c3d5a",
   "metadata": {
    "slideshow": {
     "slide_type": "-"
    }
   },
   "source": [
    "<div align=center>\n",
    "<img src=\"图片\\2.jpg\" width=\"1000\" height=\"1000\" />\n",
    "    </div >"
   ]
  },
  {
   "cell_type": "markdown",
   "id": "395f4489",
   "metadata": {
    "slideshow": {
     "slide_type": "slide"
    }
   },
   "source": [
    "**<center>一维ising模型的Hamitonian已知</center>**\n",
    "$$\\hat{H} = -J\\sum_{i}s_is_{i+1} - B\\sum_i s_i $$"
   ]
  },
  {
   "cell_type": "markdown",
   "id": "3e3b4dfb",
   "metadata": {
    "slideshow": {
     "slide_type": "fragment"
    }
   },
   "source": [
    " 例如：当格点数为 4 时， Hamitonian可以写成：\n",
    " $$H = -\\sigma_1^z\\otimes \\sigma_2^z \\otimes I_3 \\otimes I_4 - I_1\\otimes \\sigma_2^z \\otimes \\sigma_3^z \\otimes I_4 - I_1 \\otimes I_2 \\otimes \\sigma_3^z \\otimes \\sigma_4^z - \\sigma_1^x \\otimes I_2\\otimes I_3\\otimes I_4 - I_1\\otimes \\sigma_2^x \\otimes I_3\\otimes I_4 - I_1\\otimes I_2\\otimes \\sigma_3^x \\otimes I_4 - I_1\\otimes I_2\\otimes I_3\\otimes \\sigma_4^x $$"
   ]
  },
  {
   "cell_type": "markdown",
   "id": "384ef079",
   "metadata": {
    "slideshow": {
     "slide_type": "fragment"
    }
   },
   "source": [
    "**我们的任务**：把H写出来，然后写出H在自旋表象下 (|0000> ,|0001>,...,|1111> 16个基下)的H矩阵,对角化H矩阵即可得到基态能量。"
   ]
  },
  {
   "cell_type": "code",
   "execution_count": 1,
   "id": "1bda16d0",
   "metadata": {
    "slideshow": {
     "slide_type": "slide"
    }
   },
   "outputs": [],
   "source": [
    "import numpy as np\n",
    "import time\n",
    "# Sx measurement\n",
    "Sx = np.float64([[0,   0.5],\n",
    "                    [0.5, 0  ]])\n",
    "\n",
    "# Sz measurement\n",
    "Sz = np.float64([[0.5,  0   ],\n",
    "                    [0,   -0.5]])"
   ]
  },
  {
   "cell_type": "markdown",
   "id": "a984bca1",
   "metadata": {
    "slideshow": {
     "slide_type": "slide"
    }
   },
   "source": [
    "## 写出自旋表象下的H矩阵\n",
    "$$\\hat{H} = -J\\sum_{i}\\sigma_i^z\\sigma_{i+1}^z - B\\sum_i \\sigma_i^x $$"
   ]
  },
  {
   "cell_type": "code",
   "execution_count": 2,
   "id": "477fa2e7",
   "metadata": {
    "slideshow": {
     "slide_type": "slide"
    }
   },
   "outputs": [],
   "source": [
    "# 生成L个格点的H矩阵， 默认J = B = 1， 因为我们可以直接写出自旋表象下的H矩阵，所以没有使用<000|H|000>这种写法，效果是一样的。\n",
    "def Ham(L): \n",
    "    I = np.eye(2)\n",
    "    e = 2**L\n",
    "    J = np.zeros((e,e))\n",
    "    #print(J)\n",
    "    B = np.zeros((e,e))\n",
    "    \n",
    "    #计算相互作用矩阵，注意维度为2**L, 要张量积其他格点单位矩阵\n",
    "    for i in range(0, L-1):\n",
    "        _Jz = 1\n",
    "        for j in range(0, i):\n",
    "            _Jz = np.kron(_Jz, I)\n",
    "        if(i > L-2):\n",
    "            _Jz = np.kron(_Jz,-Sz)\n",
    "        else:\n",
    "            _Jz = np.kron(np.kron(_Jz,-Sz),Sz)\n",
    "        for k in range(i+2, L):\n",
    "            _Jz = np.kron(_Jz, I)\n",
    "            #print(\"**JZ\")\n",
    "            #print(_Jz)\n",
    "        J += _Jz\n",
    "        #print(J)\n",
    "              \n",
    "    #计算外场作用的矩阵，也要张量积其他格点单位矩阵\n",
    "    for i in range(0, L):\n",
    "        _Bx = 1\n",
    "        for j in range(0, i):\n",
    "            _Bx = np.kron(_Bx, I)\n",
    "        _Bx = np.kron(_Bx,Sx)\n",
    "        for j in range(i+1, L):\n",
    "            _Bx = np.kron(_Bx, I)\n",
    "        B += _Bx     \n",
    "    return J-B\n",
    "        \n",
    "    \n",
    "    \n"
   ]
  },
  {
   "cell_type": "code",
   "execution_count": 3,
   "id": "ed72dcaf",
   "metadata": {
    "slideshow": {
     "slide_type": "slide"
    }
   },
   "outputs": [],
   "source": [
    "def run(L):\n",
    "    H = Ham(L)\n",
    "    print(\"H矩阵为：\\n\",H)\n",
    "    eigVal, eigVec = np.linalg.eigh(H)\n",
    "    return eigVal"
   ]
  },
  {
   "cell_type": "markdown",
   "id": "2cd886c7",
   "metadata": {
    "slideshow": {
     "slide_type": "slide"
    }
   },
   "source": [
    "## 测试N = 4"
   ]
  },
  {
   "cell_type": "code",
   "execution_count": 5,
   "id": "be2078f5",
   "metadata": {
    "slideshow": {
     "slide_type": "fragment"
    }
   },
   "outputs": [
    {
     "name": "stdout",
     "output_type": "stream",
     "text": [
      "H矩阵为：\n",
      " [[-0.75 -0.5  -0.5   0.   -0.5   0.    0.    0.   -0.5   0.    0.    0.\n",
      "   0.    0.    0.    0.  ]\n",
      " [-0.5  -0.25  0.   -0.5   0.   -0.5   0.    0.    0.   -0.5   0.    0.\n",
      "   0.    0.    0.    0.  ]\n",
      " [-0.5   0.    0.25 -0.5   0.    0.   -0.5   0.    0.    0.   -0.5   0.\n",
      "   0.    0.    0.    0.  ]\n",
      " [ 0.   -0.5  -0.5  -0.25  0.    0.    0.   -0.5   0.    0.    0.   -0.5\n",
      "   0.    0.    0.    0.  ]\n",
      " [-0.5   0.    0.    0.    0.25 -0.5  -0.5   0.    0.    0.    0.    0.\n",
      "  -0.5   0.    0.    0.  ]\n",
      " [ 0.   -0.5   0.    0.   -0.5   0.75  0.   -0.5   0.    0.    0.    0.\n",
      "   0.   -0.5   0.    0.  ]\n",
      " [ 0.    0.   -0.5   0.   -0.5   0.    0.25 -0.5   0.    0.    0.    0.\n",
      "   0.    0.   -0.5   0.  ]\n",
      " [ 0.    0.    0.   -0.5   0.   -0.5  -0.5  -0.25  0.    0.    0.    0.\n",
      "   0.    0.    0.   -0.5 ]\n",
      " [-0.5   0.    0.    0.    0.    0.    0.    0.   -0.25 -0.5  -0.5   0.\n",
      "  -0.5   0.    0.    0.  ]\n",
      " [ 0.   -0.5   0.    0.    0.    0.    0.    0.   -0.5   0.25  0.   -0.5\n",
      "   0.   -0.5   0.    0.  ]\n",
      " [ 0.    0.   -0.5   0.    0.    0.    0.    0.   -0.5   0.    0.75 -0.5\n",
      "   0.    0.   -0.5   0.  ]\n",
      " [ 0.    0.    0.   -0.5   0.    0.    0.    0.    0.   -0.5  -0.5   0.25\n",
      "   0.    0.    0.   -0.5 ]\n",
      " [ 0.    0.    0.    0.   -0.5   0.    0.    0.   -0.5   0.    0.    0.\n",
      "  -0.25 -0.5  -0.5   0.  ]\n",
      " [ 0.    0.    0.    0.    0.   -0.5   0.    0.    0.   -0.5   0.    0.\n",
      "  -0.5   0.25  0.   -0.5 ]\n",
      " [ 0.    0.    0.    0.    0.    0.   -0.5   0.    0.    0.   -0.5   0.\n",
      "  -0.5   0.   -0.25 -0.5 ]\n",
      " [ 0.    0.    0.    0.    0.    0.    0.   -0.5   0.    0.    0.   -0.5\n",
      "   0.   -0.5  -0.5  -0.75]]\n",
      "使用CI计算所用时间为： 0.03125\n",
      "计算得到精确解为： -2.09419965921259\n"
     ]
    }
   ],
   "source": [
    "t0 = time.process_time()\n",
    "out = run(4)\n",
    "t1 = time.process_time()\n",
    "print(\"使用CI计算所用时间为：\",t1 - t0)\n",
    "print(\"计算得到精确解为：\",out[0])"
   ]
  },
  {
   "cell_type": "markdown",
   "id": "a5cef6cd",
   "metadata": {
    "slideshow": {
     "slide_type": "slide"
    }
   },
   "source": [
    "## 测试N = 10"
   ]
  },
  {
   "cell_type": "code",
   "execution_count": 19,
   "id": "dc396f73",
   "metadata": {
    "slideshow": {
     "slide_type": "fragment"
    }
   },
   "outputs": [
    {
     "name": "stdout",
     "output_type": "stream",
     "text": [
      "H矩阵为：\n",
      " [[-2.25 -0.5  -0.5  ...  0.    0.    0.  ]\n",
      " [-0.5  -1.75  0.   ...  0.    0.    0.  ]\n",
      " [-0.5   0.   -1.25 ...  0.    0.    0.  ]\n",
      " ...\n",
      " [ 0.    0.    0.   ... -1.25  0.   -0.5 ]\n",
      " [ 0.    0.    0.   ...  0.   -1.75 -0.5 ]\n",
      " [ 0.    0.    0.   ... -0.5  -0.5  -2.25]]\n",
      "使用CI计算所用时间为： 1.5650366479999995\n",
      "计算得到精确解为： -4.7515029807284135\n"
     ]
    }
   ],
   "source": [
    "t0 = time.process_time()\n",
    "out = run(10)\n",
    "t1 = time.process_time()\n",
    "print(\"使用CI计算所用时间为：\",t1 - t0)\n",
    "print(\"计算得到精确解为：\",out[1])"
   ]
  },
  {
   "cell_type": "markdown",
   "id": "d5b6ec93",
   "metadata": {
    "slideshow": {
     "slide_type": "slide"
    }
   },
   "source": [
    "## 测试N = 15, （内存所需过大，可能会报错，我的运行结果见下图）"
   ]
  },
  {
   "cell_type": "code",
   "execution_count": 7,
   "id": "7862a709",
   "metadata": {
    "slideshow": {
     "slide_type": "fragment"
    }
   },
   "outputs": [],
   "source": [
    "#t0 = time.process_time()\n",
    "#out = run(15)\n",
    "#t1 = time.process_time()\n",
    "#print(\"使用CI计算所用时间为：\",t1 - t0)\n",
    "#print(\"计算得到精确解为：\",out[1])"
   ]
  },
  {
   "cell_type": "markdown",
   "id": "738b5d4d",
   "metadata": {
    "slideshow": {
     "slide_type": "fragment"
    }
   },
   "source": [
    "<div align=center>\n",
    "<img src=\"图片\\36.jpg\" width=\"1000\" height=\"1000\" />\n",
    "    </div >"
   ]
  },
  {
   "cell_type": "markdown",
   "id": "c9b853a8",
   "metadata": {
    "slideshow": {
     "slide_type": "slide"
    }
   },
   "source": [
    "## 可见传统CI方法在模型规模稍大一些，就因为存储问题难以进行计算了。\n",
    "## 而DMRG方法因为截断过程，相对减少了存储开支和计算量。"
   ]
  },
  {
   "cell_type": "code",
   "execution_count": null,
   "id": "0050c13c",
   "metadata": {},
   "outputs": [],
   "source": []
  },
  {
   "cell_type": "code",
   "execution_count": null,
   "id": "593550f7",
   "metadata": {},
   "outputs": [],
   "source": []
  }
 ],
 "metadata": {
  "celltoolbar": "Slideshow",
  "kernelspec": {
   "display_name": "Python 3 (ipykernel)",
   "language": "python",
   "name": "python3"
  },
  "language_info": {
   "codemirror_mode": {
    "name": "ipython",
    "version": 3
   },
   "file_extension": ".py",
   "mimetype": "text/x-python",
   "name": "python",
   "nbconvert_exporter": "python",
   "pygments_lexer": "ipython3",
   "version": "3.8.10"
  }
 },
 "nbformat": 4,
 "nbformat_minor": 5
}
