{
 "cells": [
  {
   "cell_type": "markdown",
   "id": "2aeb8a50",
   "metadata": {
    "slideshow": {
     "slide_type": "slide"
    }
   },
   "source": [
    "# DMRG程序介绍\n",
    "\n",
    "<em> 梁文昊  \n",
    "    2022.1.5 \n",
    "    <em/>\n",
    "    \n",
    "---"
   ]
  },
  {
   "cell_type": "markdown",
   "id": "d90eed1c",
   "metadata": {
    "slideshow": {
     "slide_type": "slide"
    }
   },
   "source": [
    "## 目录\n",
    "\n",
    "* [**研究背景与意义**](#研究背景与意义)\n",
    "* [**DMRG并行近期进展**](#DMRG并行近期进展)\n",
    "* [**方法介绍**](#方法介绍)\n",
    "  * [DMRG方法总览](#DMRG方法总览)\n",
    "  * [基础知识介绍](#基础知识介绍)\n",
    "  * [以ising模型为例，介绍DMRG程序](#以ising模型为例，介绍DMRG程序)\n",
    "* [**测试**](#测试)\n",
    "  * [N=4](#N=4)\n",
    "  * [N=10](#N=10)\n",
    "  * [N=15](#N=15)\n",
    "* [**CI程序对比**](#CI程序)\n",
    "* [**总结**](#总结)\n",
    "\n",
    "\n",
    "---"
   ]
  },
  {
   "cell_type": "markdown",
   "id": "e0bd0811",
   "metadata": {
    "slideshow": {
     "slide_type": "slide"
    }
   },
   "source": [
    "## 研究背景与意义"
   ]
  },
  {
   "attachments": {},
   "cell_type": "markdown",
   "id": "88cc9ab7",
   "metadata": {
    "slideshow": {
     "slide_type": "fragment"
    }
   },
   "source": [
    "根据量子力学原理，我们可以用波函数来描述量子体系的状态,如2个自旋向上的电子的状态可以写成：\n",
    "\n",
    "$$\n",
    "|\\Psi\\rangle = |00\\rangle\n",
    "\\tag{1}\n",
    "$$\n",
    "\n",
    "这里$|0\\rangle$代表自旋向上。这时,我们可以说这两个电子没有相互作用，该体系是简单**弱关联**体系，可以用**单个组态**来描述所处的状态。\n",
    "\n",
    "但是当我们研究复杂体系的低能态时，根据纠缠熵面积律[[1]](https://journals.aps.org/prb/abstract/10.1103/PhysRevB.76.035114)，我们无法忽视局部粒子间的相互作用，否则我们的结果将与实际值有很大的偏差，这种体系我们称之为**强关联**体系（粒子间有纠缠）"
   ]
  },
  {
   "cell_type": "markdown",
   "id": "19d70939",
   "metadata": {
    "slideshow": {
     "slide_type": "slide"
    }
   },
   "source": [
    "科学研究中的许多问题都是强关联体系，比如在光合作用光反应过程中起核心作用的$Mn_4CaO_5$团簇、生物过程广泛应用的催化剂$NHFe/NHFe_2$、固氮酶中的铁硫簇、未来战略技术的超导材料等等。这些问题都需要我们对微观体系有精确的描述和计算，因此设计一个能够**快速精确**的算法是非常重要的。\n",
    "\n",
    "<center><img src =\"图片/41.jpg\" width=\"800\"></center>"
   ]
  },
  {
   "cell_type": "markdown",
   "id": "1fc25981",
   "metadata": {
    "slideshow": {
     "slide_type": "fragment"
    }
   },
   "source": [
    "Density-functional theory (DFT)在之前备受关注，该方法能成功计算原子、分子和固体的电子结构，并且该方法使用单组态，因此计算复杂度不高，应用广泛。但也因为是单组态，它在计算相关能方面饱受诟病，使用不同的泛函来计算同一体系可能结果迥异。"
   ]
  },
  {
   "cell_type": "markdown",
   "id": "b801fe00",
   "metadata": {
    "slideshow": {
     "slide_type": "slide"
    }
   },
   "source": [
    "为了准确描述相关能，我们需要用**多个组态**来描述这一体系：\n",
    "\n",
    "$$\n",
    "|\\Psi\\rangle = c_{00}|00\\rangle + c_{01}|01\\rangle + c_{10}|10\\rangle + c_{11}|11\\rangle\n",
    "\\tag{2}\n",
    "$$\n",
    "\n",
    "我们可以把这种方法叫做Full configuration interaction（FCI）。<em>（粗略理解）<em/>"
   ]
  },
  {
   "cell_type": "markdown",
   "id": "6dc00d33",
   "metadata": {
    "slideshow": {
     "slide_type": "fragment"
    }
   },
   "source": [
    "天下没有免费的午餐，多组态的方法虽然准确的描述了强关联体系，但是付出的代价就是“**指数墙**”问题。正如式（2）所示，对于N个电子体系，我们需要$2^N$个参数来描述，当N=100，我们就需要$2^{100} = 1267650600228229401496703205376$（一千亿亿亿级）个参数，对应1267650600228229401496703205376维矩阵运算，就算是超级计算机也不好对付。\n"
   ]
  },
  {
   "cell_type": "markdown",
   "id": "20af09b2",
   "metadata": {
    "slideshow": {
     "slide_type": "fragment"
    }
   },
   "source": [
    "为了解决以上这些问题，White在1992年提出**DMRG算法**，它可以让我们只需花费**多项式级别**的计算时间，很好地考虑到相关能，得到我们可以接受的精确解[[23]](https://aip.scitation.org/doi/10.1063/1.2805383)。\n",
    "\n",
    "\n",
    "---"
   ]
  },
  {
   "cell_type": "markdown",
   "id": "0088dec7",
   "metadata": {
    "slideshow": {
     "slide_type": "slide"
    }
   },
   "source": [
    "## DMRG并行近期进展"
   ]
  },
  {
   "cell_type": "markdown",
   "id": "f8aa4998",
   "metadata": {
    "slideshow": {
     "slide_type": "slide"
    }
   },
   "source": [
    "Chan在2021年发表的论文[[2]](https://aip.scitation.org/doi/10.1063/5.0050902)很好地说明了DMRG目前并行的最新进展。"
   ]
  },
  {
   "cell_type": "markdown",
   "id": "d7ae79ab",
   "metadata": {
    "slideshow": {
     "slide_type": "subslide"
    }
   },
   "source": [
    "<img src=\"图片/44.jpg\" width = \"800\">\n",
    "\n",
    "---"
   ]
  },
  {
   "cell_type": "markdown",
   "id": "a16bae25",
   "metadata": {
    "slideshow": {
     "slide_type": "slide"
    }
   },
   "source": [
    "<img src=\"图片/45.jpg\" width = \"800\">\n",
    "\n",
    "---"
   ]
  },
  {
   "cell_type": "markdown",
   "id": "aa4e7f2d",
   "metadata": {
    "slideshow": {
     "slide_type": "slide"
    }
   },
   "source": [
    "<img src=\"图片/46.jpg\" width = \"800\">\n",
    "\n",
    "---"
   ]
  },
  {
   "cell_type": "markdown",
   "id": "8b04d1b4",
   "metadata": {
    "slideshow": {
     "slide_type": "slide"
    }
   },
   "source": [
    "<img src=\"图片/47.jpg\" width = \"800\">\n",
    "\n",
    "---"
   ]
  },
  {
   "cell_type": "markdown",
   "id": "0b1904a8",
   "metadata": {
    "slideshow": {
     "slide_type": "slide"
    }
   },
   "source": [
    "<img src=\"图片/48.jpg\" width = \"800\">\n",
    "\n",
    "---"
   ]
  },
  {
   "cell_type": "markdown",
   "id": "2b494b06",
   "metadata": {
    "slideshow": {
     "slide_type": "slide"
    }
   },
   "source": [
    "<img src=\"图片/49.jpg\" width = \"800\">\n",
    "\n",
    "---"
   ]
  },
  {
   "cell_type": "markdown",
   "id": "2374c1ec",
   "metadata": {
    "slideshow": {
     "slide_type": "slide"
    }
   },
   "source": [
    "<img src=\"图片/50.jpg\" width = \"800\">\n",
    "\n",
    "---"
   ]
  },
  {
   "cell_type": "code",
   "execution_count": null,
   "id": "e52b75bb",
   "metadata": {},
   "outputs": [],
   "source": []
  },
  {
   "cell_type": "code",
   "execution_count": null,
   "id": "a901e701",
   "metadata": {},
   "outputs": [],
   "source": []
  },
  {
   "cell_type": "code",
   "execution_count": null,
   "id": "e483ece3",
   "metadata": {},
   "outputs": [],
   "source": []
  },
  {
   "cell_type": "code",
   "execution_count": null,
   "id": "99fb86ba",
   "metadata": {},
   "outputs": [],
   "source": []
  },
  {
   "cell_type": "markdown",
   "id": "e7377672",
   "metadata": {
    "slideshow": {
     "slide_type": "slide"
    }
   },
   "source": [
    "## 方法介绍"
   ]
  },
  {
   "cell_type": "markdown",
   "id": "909482aa",
   "metadata": {
    "slideshow": {
     "slide_type": "slide"
    }
   },
   "source": [
    "### DMRG方法总览\n",
    "对于现有的一个物理模型，和给定的哈密顿量算符，我们来找到这个系统的某个状态（**波函数**），使整个系统的**能量**最低。 我们知道，一个系统的状态确定，哈密顿算符作用在波函数的本征值就是该状态的能量。\n",
    "\n",
    "这里我们使用的 DMRG方法是：\n",
    "1. 已知所求的模型和哈密顿量算符;\n",
    "2. 把波函数写成考虑邻近粒子间有**相互作用**的**Matrix Product State（MPS)**形式。\n",
    "3. 通过**变分法**不断的更新MPS, 使求得的波函数状态能量最低!\n",
    "\n",
    "\n",
    "---"
   ]
  },
  {
   "cell_type": "markdown",
   "id": "eb67ce49",
   "metadata": {
    "slideshow": {
     "slide_type": "slide"
    }
   },
   "source": [
    "### 基础知识介绍"
   ]
  },
  {
   "cell_type": "markdown",
   "id": "4821fa0a",
   "metadata": {
    "slideshow": {
     "slide_type": "slide"
    }
   },
   "source": [
    "<img src=\"图片/3.jpg\" width = \"800\">\n",
    "\n",
    "---"
   ]
  },
  {
   "cell_type": "markdown",
   "id": "63787648",
   "metadata": {
    "slideshow": {
     "slide_type": "slide"
    }
   },
   "source": [
    "<img src=\"图片/4.jpg\" width = \"800\">\n",
    "\n",
    "---"
   ]
  },
  {
   "cell_type": "markdown",
   "id": "5b8155f7",
   "metadata": {
    "slideshow": {
     "slide_type": "slide"
    }
   },
   "source": [
    "<img src=\"图片/5.jpg\" width = \"800\">\n",
    "\n",
    "---"
   ]
  },
  {
   "cell_type": "markdown",
   "id": "1730a2d9",
   "metadata": {
    "slideshow": {
     "slide_type": "slide"
    }
   },
   "source": [
    "<img src=\"图片/6.jpg\" width = \"800\">\n",
    "\n",
    "---"
   ]
  },
  {
   "cell_type": "markdown",
   "id": "27ebbdc5",
   "metadata": {
    "slideshow": {
     "slide_type": "slide"
    }
   },
   "source": [
    "<img src=\"图片/7.jpg\" width = \"800\">\n",
    "\n",
    "---"
   ]
  },
  {
   "cell_type": "markdown",
   "id": "eeb33941",
   "metadata": {
    "slideshow": {
     "slide_type": "slide"
    }
   },
   "source": [
    "构建好MPS和MPO后，我们利用**变分法**，将求解能量问题转化为求解矩阵特征值问题。"
   ]
  },
  {
   "cell_type": "markdown",
   "id": "6d486cb1",
   "metadata": {
    "slideshow": {
     "slide_type": "fragment"
    }
   },
   "source": [
    "<img src=\"图片/8.jpg\" width = \"800\">\n",
    "\n",
    "---"
   ]
  },
  {
   "cell_type": "markdown",
   "id": "0eb852ef",
   "metadata": {
    "slideshow": {
     "slide_type": "slide"
    }
   },
   "source": [
    "## 以ising模型为例，介绍DMRG程序\n",
    "\n",
    "一维ising模型可以简单看成一维电子自旋链，这里我们只考虑自旋和自旋相互作用，来求解基态能量。\n",
    "\n",
    "<img src=\"图片/2.jpg\" width = \"800\">\n",
    "\n",
    "---"
   ]
  },
  {
   "cell_type": "markdown",
   "id": "a2eb34b4",
   "metadata": {},
   "source": [
    "根据上面基础知识我们知道，我们想要求解系统的基态能量，只需**构建MPS和MPO组成的张量网络**，写出它的矩阵形式，**求解得到的最小特征值对应的特征向量**作为新的MPS来**更新**系统的波函数，然后对新的张量网络继续求解，这样不断**迭代**直至收敛，这时矩阵的最小特征值即为我们所需的基态能量解。\n",
    "\n",
    "为更清楚的了解DMRG求解过程，这里以4个格点的一维ising模型为例，我把每个格点上的MPS和MPO随着计算过程的变化用表格表示出来。此外为方便得到张量网络的矩阵形式，我们引入3个中间变量：TensorF、TensorL、TensorR，它们的含义在下图中已展示出来。\n",
    "\n",
    "引入Dummy site（假想点）只是为了方便写代码，这个点本身没有物理意义。\\\n",
    "M是我们允许的矩阵最大维度，为保证能够计算，超过M的维度我们扔掉。"
   ]
  },
  {
   "cell_type": "markdown",
   "id": "d5b942ac",
   "metadata": {
    "slideshow": {
     "slide_type": "subslide"
    }
   },
   "source": [
    "<img src=\"图片/9.jpg\" width = \"900\">"
   ]
  },
  {
   "cell_type": "markdown",
   "id": "9f2a43a4",
   "metadata": {
    "slideshow": {
     "slide_type": "subslide"
    }
   },
   "source": [
    "### 首先我们先构建MPO"
   ]
  },
  {
   "cell_type": "markdown",
   "id": "a68c7f50",
   "metadata": {
    "slideshow": {
     "slide_type": "fragment"
    }
   },
   "source": [
    "<img src=\"图片/11.jpg\" width = \"500\">"
   ]
  },
  {
   "cell_type": "code",
   "execution_count": 69,
   "id": "573196ad",
   "metadata": {
    "slideshow": {
     "slide_type": "subslide"
    }
   },
   "outputs": [],
   "source": [
    "import numpy\n",
    "import time\n",
    "\n",
    "# S^+, the aising operator\n",
    "Sp = numpy.float64([[0, 1],\n",
    "                    [0, 0]])\n",
    "\n",
    "# S^-, the lowering operator\n",
    "Sm = numpy.float64([[0, 0],\n",
    "                    [1, 0]])\n",
    "\n",
    "# Sx measurement\n",
    "Sx = numpy.float64([[0,   0.5],\n",
    "                    [0.5, 0  ]])\n",
    "\n",
    "# Sz measurement\n",
    "Sz = numpy.float64([[0.5,  0   ],\n",
    "                    [0,   -0.5]])\n",
    "\n",
    "# zero matrix block\n",
    "zero = numpy.zeros((2, 2))\n",
    "\n",
    "# identity matrix block\n",
    "identity = numpy.eye((2))"
   ]
  },
  {
   "cell_type": "markdown",
   "id": "5f31ca10",
   "metadata": {
    "slideshow": {
     "slide_type": "subslide"
    }
   },
   "source": [
    "<img src=\"图片/10.jpg\" width = \"500\">"
   ]
  },
  {
   "cell_type": "code",
   "execution_count": 70,
   "id": "47e0a612",
   "metadata": {
    "slideshow": {
     "slide_type": "fragment"
    }
   },
   "outputs": [
    {
     "name": "stdout",
     "output_type": "stream",
     "text": [
      "(3, 3, 2, 2)\n",
      "[[[[ 1.   0. ]\n",
      "   [ 0.   1. ]]\n",
      "\n",
      "  [[ 0.   0. ]\n",
      "   [ 0.   0. ]]\n",
      "\n",
      "  [[ 0.   0. ]\n",
      "   [ 0.   0. ]]]\n",
      "\n",
      "\n",
      " [[[ 0.5  0. ]\n",
      "   [ 0.  -0.5]]\n",
      "\n",
      "  [[ 0.   0. ]\n",
      "   [ 0.   0. ]]\n",
      "\n",
      "  [[ 0.   0. ]\n",
      "   [ 0.   0. ]]]\n",
      "\n",
      "\n",
      " [[[-0.  -0.5]\n",
      "   [-0.5 -0. ]]\n",
      "\n",
      "  [[-0.5 -0. ]\n",
      "   [-0.   0.5]]\n",
      "\n",
      "  [[ 1.   0. ]\n",
      "   [ 0.   1. ]]]]\n"
     ]
    }
   ],
   "source": [
    "# 构建一个MPO\n",
    "def local_operator(J=1.0, h=1.0):\n",
    "    \"\"\"\n",
    "    construct local operator for transverse field Ising model\n",
    "    - J: coupling constant\n",
    "    - h: Strength of external field\n",
    "    return: local operator with shape (3, 3, 2, 2)\n",
    "    \"\"\"\n",
    "    # 3x3 matrix, each element is a 2x2 matrix\n",
    "    # the local operator is 4-dimensional and with shape as (3,3,2,2)\n",
    "    return numpy.float64([ \n",
    "        [identity,  zero,    zero],\n",
    "        [Sz,        zero,    zero],\n",
    "        [-h*Sx,    -J*Sz,    identity]\n",
    "    ])\n",
    "a = local_operator() \n",
    "print(a.shape)\n",
    "print(a)"
   ]
  },
  {
   "cell_type": "code",
   "execution_count": 71,
   "id": "3fbe5807",
   "metadata": {
    "slideshow": {
     "slide_type": "subslide"
    }
   },
   "outputs": [],
   "source": [
    "#构建4个MPO\n",
    "class MPO:\n",
    "    '''\n",
    "    ***** matrix product operator class for spin model ***\n",
    "    The bond order of the local operator is [left, right, up, down], as\n",
    "                                    | 2\n",
    "                                0 --#-- 1\n",
    "                                    | 3\n",
    "    '''\n",
    "    def __init__(self, localOperator, size, averaged=False):\n",
    "        '''\n",
    "        in which shape[2] and shape[3] are physical dimensions.\n",
    "        '''\n",
    "        # check the input localOperator\n",
    "        assert isinstance(localOperator, numpy.ndarray)\n",
    "        assert localOperator.ndim == 4\n",
    "        assert localOperator.shape[0] == localOperator.shape[1]\n",
    "        assert localOperator.shape[2] == localOperator.shape[3]\n",
    "        # the number of sites\n",
    "        self._size = size\n",
    "        # collection of mpo for each site\n",
    "        self._data = []\n",
    "        # mpo for the first site\n",
    "        leftmost = localOperator[-1].copy()   #最后一行\n",
    "        leftmost = leftmost.reshape((1,) + leftmost.shape)\n",
    "        self._data.append(leftmost)\n",
    "        # mpo for middle sites\n",
    "        for _ in range(self._size - 2):\n",
    "            self._data.append(localOperator.copy()) ##copy二次\n",
    "        # mpo for the last site\n",
    "        rightmost = localOperator[:,0].copy()  #第一列\n",
    "        if averaged:\n",
    "            rightmost /= size\n",
    "        rightmost = rightmost.reshape((rightmost.shape[0],) + (1,) + rightmost.shape[1:])\n",
    "        self._data.append(rightmost)\n",
    "\n",
    "    # return the number of sites   \n",
    "    @property\n",
    "    def size(self):\n",
    "        '''\n",
    "        return the number of sites\n",
    "        '''\n",
    "        return self._size\n",
    "\n",
    "    # return the physical dimension at the given site\n",
    "    def physAt(self, pos):\n",
    "        return self._data[pos].shape[2]\n",
    "\n",
    "    @property\n",
    "    def data(self):\n",
    "        return self._data"
   ]
  },
  {
   "cell_type": "code",
   "execution_count": 72,
   "id": "d572129e",
   "metadata": {
    "slideshow": {
     "slide_type": "subslide"
    }
   },
   "outputs": [
    {
     "name": "stdout",
     "output_type": "stream",
     "text": [
      "4\n",
      "[array([[[[-0. , -0.5],\n",
      "         [-0.5, -0. ]],\n",
      "\n",
      "        [[-0.5, -0. ],\n",
      "         [-0. ,  0.5]],\n",
      "\n",
      "        [[ 1. ,  0. ],\n",
      "         [ 0. ,  1. ]]]]), array([[[[ 1. ,  0. ],\n",
      "         [ 0. ,  1. ]],\n",
      "\n",
      "        [[ 0. ,  0. ],\n",
      "         [ 0. ,  0. ]],\n",
      "\n",
      "        [[ 0. ,  0. ],\n",
      "         [ 0. ,  0. ]]],\n",
      "\n",
      "\n",
      "       [[[ 0.5,  0. ],\n",
      "         [ 0. , -0.5]],\n",
      "\n",
      "        [[ 0. ,  0. ],\n",
      "         [ 0. ,  0. ]],\n",
      "\n",
      "        [[ 0. ,  0. ],\n",
      "         [ 0. ,  0. ]]],\n",
      "\n",
      "\n",
      "       [[[-0. , -0.5],\n",
      "         [-0.5, -0. ]],\n",
      "\n",
      "        [[-0.5, -0. ],\n",
      "         [-0. ,  0.5]],\n",
      "\n",
      "        [[ 1. ,  0. ],\n",
      "         [ 0. ,  1. ]]]]), array([[[[ 1. ,  0. ],\n",
      "         [ 0. ,  1. ]],\n",
      "\n",
      "        [[ 0. ,  0. ],\n",
      "         [ 0. ,  0. ]],\n",
      "\n",
      "        [[ 0. ,  0. ],\n",
      "         [ 0. ,  0. ]]],\n",
      "\n",
      "\n",
      "       [[[ 0.5,  0. ],\n",
      "         [ 0. , -0.5]],\n",
      "\n",
      "        [[ 0. ,  0. ],\n",
      "         [ 0. ,  0. ]],\n",
      "\n",
      "        [[ 0. ,  0. ],\n",
      "         [ 0. ,  0. ]]],\n",
      "\n",
      "\n",
      "       [[[-0. , -0.5],\n",
      "         [-0.5, -0. ]],\n",
      "\n",
      "        [[-0.5, -0. ],\n",
      "         [-0. ,  0.5]],\n",
      "\n",
      "        [[ 1. ,  0. ],\n",
      "         [ 0. ,  1. ]]]]), array([[[[ 1. ,  0. ],\n",
      "         [ 0. ,  1. ]]],\n",
      "\n",
      "\n",
      "       [[[ 0.5,  0. ],\n",
      "         [ 0. , -0.5]]],\n",
      "\n",
      "\n",
      "       [[[-0. , -0.5],\n",
      "         [-0.5, -0. ]]]])]\n"
     ]
    }
   ],
   "source": [
    "nSite = 4\n",
    "mpo = MPO(local_operator(), nSite)\n",
    "print(mpo.size)\n",
    "print(mpo.data)"
   ]
  },
  {
   "cell_type": "markdown",
   "id": "616c9f82",
   "metadata": {
    "slideshow": {
     "slide_type": "slide"
    }
   },
   "source": [
    "### 构建MPS"
   ]
  },
  {
   "cell_type": "markdown",
   "id": "e2dc89b8",
   "metadata": {
    "slideshow": {
     "slide_type": "fragment"
    }
   },
   "source": [
    "<img src=\"图片/12.jpg\" width = \"200\">"
   ]
  },
  {
   "cell_type": "code",
   "execution_count": 73,
   "id": "ed36fc47",
   "metadata": {
    "slideshow": {
     "slide_type": "subslide"
    }
   },
   "outputs": [],
   "source": [
    "#初始化为随机数\n",
    "class local_state:\n",
    "    '''\n",
    "    ***** local tensor class *****\n",
    "    '''\n",
    "    def __init__(self, left, phys, right):\n",
    "        # rank-3 local tensor\n",
    "        if left and right: # if this tensor is not the left-/right-most one\n",
    "            # initialize with random numbers\n",
    "            self._data = numpy.random.random((left, phys, right))  #生成维度为(left, phys, right)的元素大小为(0,1)之间的数组。\n",
    "        else:\n",
    "            self._data = numpy.zeros((0,0,0))\n",
    " \n",
    "    # return all the three bond dimensions\n",
    "    @property\n",
    "    def dims(self):\n",
    "        '''\n",
    "        return bond dimensions of [left, physical, right] bonds\n",
    "        '''\n",
    "        return self._data.shape\n",
    "\n",
    "    @property\n",
    "    def data(self):\n",
    "        return self._data\n",
    "\n",
    "    @property\n",
    "    def shape(self):\n",
    "        '''\n",
    "        return the shape of local tensor\n",
    "        '''\n",
    "        return self._data.shape\n",
    "\n",
    "    # return the left bond dimension\n",
    "    @property\n",
    "    def left(self):\n",
    "        return self._data.shape[0]\n",
    "\n",
    "    # return the physical bond dimension\n",
    "    @property\n",
    "    def phys(self):\n",
    "        return self._data.shape[1]\n",
    "\n",
    "    # return the right bond dimension\n",
    "    @property\n",
    "    def right(self):\n",
    "        return self._data.shape[2]\n",
    "\n",
    "    # mps truncation via SVD procedure\n",
    "    def truncate(self, direction, maxM):\n",
    "        '''\n",
    "        MPS truncation via Singular Value Decomposition\n",
    "        '''\n",
    "        u = s = vh = None\n",
    "        if direction == \"left\": # left -> right SVD\n",
    "            u, s, vh = numpy.linalg.svd(self._data.reshape(self.left * self.phys, self.right), full_matrices=False)\n",
    "        elif direction == \"right\": # right -> left SVD\n",
    "            u, s, vh = numpy.linalg.svd(self._data.reshape(self.left, self.phys * self.right), full_matrices=False)\n",
    "        if len(s) > maxM: # do truncation\n",
    "            return u[:, :maxM], s[:maxM], vh[:maxM, :]\n",
    "        return u, s, vh\n",
    "\n",
    "    # update local tensor\n",
    "    def update(self, tensor):\n",
    "        self._data = tensor"
   ]
  },
  {
   "cell_type": "markdown",
   "id": "fe4fbe5e",
   "metadata": {
    "slideshow": {
     "slide_type": "slide"
    }
   },
   "source": [
    "### 构建张量网络"
   ]
  },
  {
   "cell_type": "markdown",
   "id": "6c77c42d",
   "metadata": {
    "slideshow": {
     "slide_type": "fragment"
    }
   },
   "source": [
    "<img src=\"图片/13.jpg\" width = \"500\">"
   ]
  },
  {
   "cell_type": "code",
   "execution_count": 74,
   "id": "8f74bae5",
   "metadata": {
    "slideshow": {
     "slide_type": "subslide"
    }
   },
   "outputs": [],
   "source": [
    "class DMRG:\n",
    "    '''\n",
    "    ***** Density Matrix Renormalization Group Method *****\n",
    "    '''\n",
    "    def __init__(self, mpo, maxM):\n",
    "        # the length of the lattice\n",
    "        self._size = mpo.size\n",
    "        # the maximum bond dimension\n",
    "        self._maxM = maxM\n",
    "        # dummy local tensor and local operator\n",
    "        dummySite = local_state(left=0, phys=0, right=0)\n",
    "        dummyOperator = numpy.zeros((0,0,0))\n",
    "        # construct MPS and MPO\n",
    "        firstSite = local_state(left=1, phys=mpo.physAt(0), right=self._maxM)\n",
    "        lastSite = local_state(left=self._maxM, phys=mpo.physAt(self._size-1), right=1)\n",
    "        \n",
    "        self._mps = [dummySite, firstSite] + [local_state(self._maxM, mpo.physAt(i), self._maxM) for i in range(1, self._size-1)] + [lastSite, dummySite]\n",
    "        #测试MPS\n",
    "        for i in range(0,self._size+2):\n",
    "            \n",
    "            print(\"------未右标准化的第%d个MPS------\"%i)\n",
    "            print(self._mps[i].shape)\n",
    "            \n",
    "        self._mpo = [dummyOperator] + mpo.data + [dummyOperator]\n",
    "        #测试MPO\n",
    "        print(\"************************\")\n",
    "        for i in range(0,self._size+2): \n",
    "            print(\"------第%d个MPO------\"%i)\n",
    "            print(self._mpo[i].shape)\n",
    "        # consruct tensors F, L and R\n",
    "        self._tensorsF = [numpy.ones((1,) * 6)] + [None for _ in range(self._size)] + [numpy.ones((1,) * 6)]\n",
    "        self._tensorsL = self._tensorsF.copy()\n",
    "        self._tensorsR = self._tensorsF.copy()\n",
    "        # ground state energy\n",
    "        self._gsEnergy = 0.0\n",
    "        # energies of each sweep iteration\n",
    "        self._iterationEnergies = []\n",
    "        # do right canonicalization\n",
    "        self.right_canonicalize_from(idx=self._size) \n",
    "    \n",
    "\n",
    "    def update_local_site(self, idx, newState):\n",
    "        self._mps[idx].update(newState)\n",
    "        # since the current site has changed,\n",
    "        # tensor F at the current site need to be updated.\n",
    "        self._tensorsF[idx] = None\n",
    "        # the current site has influence on the tensor L of all the sites on its right\n",
    "        for i in range(idx + 1, self._size + 1):\n",
    "            if self._tensorsL[i] is None:\n",
    "                break\n",
    "            self._tensorsL[i] = None\n",
    "        # on the tensor R of all the sites on its left\n",
    "        for i in range(idx - 1, 0, -1):\n",
    "            if self._tensorsR[i] is None:\n",
    "                break\n",
    "            self._tensorsR[i] = None\n",
    "\n",
    "    # head dummy site: idx == 0\n",
    "    # real sites : idx == 1~size\n",
    "    # last dummy site: idx == size+1\n",
    "    def left_canonicalize_at(self, idx):\n",
    "        if idx >= self._size:\n",
    "            return\n",
    "        u, s, vh = self._mps[idx].truncate(direction=\"left\", maxM=self._maxM)\n",
    "        # update local sites pos and pos+1\n",
    "        self.update_local_site(idx, newState=u.reshape((self._mps[idx].left, self._mps[idx].phys, -1)))\n",
    "        # the next site is on the right of the current site\n",
    "        self.update_local_site(idx+1, newState=numpy.tensordot(numpy.dot(numpy.diag(s), vh), self._mps[idx+1].data, axes=[1, 0]))\n",
    "\n",
    "    def left_canonicalize_from(self, idx):\n",
    "        for i in range(idx, self._size):\n",
    "            self.left_canonicalize_at(i)\n",
    "\n",
    "    # head dummy site: idx == 0\n",
    "    # real sites : idx == 1~size\n",
    "    # last dummy site: idx == size+1\n",
    "    def right_canonicalize_at(self, idx):\n",
    "        if idx <= 1:\n",
    "            return\n",
    "        site = self._mps[idx]\n",
    "        u, s, vh = site.truncate(direction=\"right\", maxM=self._maxM)\n",
    "        # update the current site\n",
    "        self.update_local_site(idx, newState=vh.reshape((-1, site.phys, site.right)))\n",
    "        # update next site on the left\n",
    "        self.update_local_site(idx-1, numpy.tensordot(self._mps[idx-1].data, numpy.dot(u, numpy.diag(s)), axes=[2, 0]))\n",
    "\n",
    "    def right_canonicalize_from(self, idx):\n",
    "        for i in range(idx, 1, -1):\n",
    "            self.right_canonicalize_at(i)\n",
    "\n",
    "    def tensorF_at(self, idx): # F = <mps mpo mps>\n",
    "        '''\n",
    "        return (after computing, if it does not exists) the tensor L at site idx\n",
    "        '''\n",
    "        if self._tensorsF[idx] is None: # tensor F for idx does not exist\n",
    "            # compute tensor F for idx\n",
    "            site = self._mps[idx] # local state\n",
    "            operator = self._mpo[idx] # local operator\n",
    "            # compute <site|operator\n",
    "            F = numpy.tensordot(site.data.conj(), operator, axes=[1, 2])\n",
    "            # compute <site|operator|site>\n",
    "            F = numpy.tensordot(F, site.data, axes=[4, 1])\n",
    "            self._tensorsF[idx] = F\n",
    "        return self._tensorsF[idx]\n",
    "\n",
    "    def tensorL_at(self, idx):\n",
    "        if self._tensorsL[idx] is None: # tensor L for idx does not exist\n",
    "            # compute tensor L for idx\n",
    "            if idx <= 1: # for the first REAL site, L == F\n",
    "                self._tensorsL[idx] = self.tensorF_at(idx)  \n",
    "            else:\n",
    "                leftL = self.tensorL_at(idx - 1)\n",
    "                currentF = self.tensorF_at(idx)\n",
    "                self._tensorsL[idx] = numpy.tensordot(leftL, currentF, axes=[[1, 3, 5], [0, 2, 4]]).transpose((0, 3, 1, 4, 2, 5))\n",
    "        return self._tensorsL[idx]\n",
    "\n",
    "    def tensorR_at(self, idx):\n",
    "        '''\n",
    "        return (after computing, if it does not exists) the tensor R at site idx\n",
    "        '''\n",
    "        if self._tensorsR[idx] is None: # tensor R for idx does not exist\n",
    "            # compute tensor R for idx\n",
    "            if idx >= self._size: # for the last REAL site, R == F\n",
    "                self._tensorsR[idx] = self.tensorF_at(idx)\n",
    "            else:\n",
    "                rightR = self.tensorR_at(idx + 1) #idx+1 的 tensorR\n",
    "                currentF = self.tensorF_at(idx)   #idx 的 SOS\n",
    "                self._tensorsR[idx] = numpy.tensordot(currentF, rightR, axes=[[1, 3, 5], [0, 2, 4]]).transpose((0, 3, 1, 4, 2, 5))\n",
    "#当idx = size - 1时， rightR = tensorF_at(size) 维度为（M,1,3,1,M，1）  currentF = tensorF_at(size - 1) 维度为 （M,M,3,3，M,M） 乘起来得到(M,3,M,1,1,1) 转换为(M,1,3,1,M,1)\n",
    "#当idx = size - 2之后，rightR = tensorF_at(size-1) 维度(M,1,3,1,M,1) currentF= tensorF_at(size - 2)同上。\n",
    "\n",
    "        return self._tensorsR[idx]\n",
    "\n",
    "    def variational_tensor_at(self, idx):\n",
    "        '''\n",
    "        compute the variational tensor\n",
    "        '''\n",
    "        site = self._mps[idx]\n",
    "        operator = self._mpo[idx]\n",
    "        # step 1\n",
    "        result = numpy.tensordot(self.tensorL_at(idx-1), operator, axes=[3, 0])  \n",
    "        # idx = 1 tensorL_at是[[[[[[1]]]]]], operatot=mpo最后一行（1，3，2，2）， axes=[3,0]表示tensorL的第4个维度与operator的第1个维度缩并。\n",
    "        #result (1,1,1,1,1,3,2,2)\n",
    "\n",
    "        # step 2\n",
    "        result = numpy.tensordot(result, self.tensorR_at(idx+1), axes=[5, 2])\n",
    "        #tensorR (m,1,3,1,m,1)   计算得到result (1,1,1,1,1,2,2,m,1,1,m,1)\n",
    "        \n",
    "        # reshape\n",
    "        result = result.reshape((site.left, site.left, site.phys, site.phys, site.right, site.right))\n",
    "        # reorder the indices\n",
    "        return result.transpose((0, 2, 4, 1, 3, 5))\n",
    "        # 返回result (left, phys, right, left, phys, right)\n",
    "\n",
    "    def sweep_at(self, idx, direction):\n",
    "        '''\n",
    "        DMRG sweep\n",
    "        '''\n",
    "        assert direction == \"left\" or direction == \"right\"\n",
    "        site = self._mps[idx]\n",
    "        localDimension = site.left * site.phys * site.right\n",
    "        # reshape the variational tensor to a square matrix\n",
    "        variationalTensor = self.variational_tensor_at(idx).reshape((localDimension, localDimension))\n",
    "        # solve for eigen values and vectors\n",
    "        eigVal, eigVec = numpy.linalg.eigh(variationalTensor)\n",
    "        # update current site\n",
    "        self.update_local_site(idx, newState=eigVec[:,0].reshape(site.shape))\n",
    "        # normalization\n",
    "        if direction == \"left\":\n",
    "            self.left_canonicalize_at(idx)\n",
    "        else: # direction == \"right\"\n",
    "            self.right_canonicalize_at(idx)\n",
    "        # return the ground state energy\n",
    "        return eigVal[0]\n",
    "\n",
    "    # the head dummy site has its idx as 0\n",
    "    # the real sites have indices in the range 1 ~ size\n",
    "    # the last dummy site has its idx as size+1\n",
    "    def run(self):\n",
    "        '''\n",
    "        run DMRG calculation and search for the ground state.\n",
    "        '''\n",
    "        sweepCount = 0\n",
    "        sweepEnergy = 0.0\n",
    "        print(\"********* naive DMRG for spin model *********\")\n",
    "        while sweepCount < 2 or not numpy.isclose(self._iterationEnergies[-1], self._iterationEnergies[-2]):\n",
    "        #表示至少sweep 2次， 直到迭代的能量收敛。\n",
    "            sweepCount += 1\n",
    "            print('\\n*************** sweep: %d ***************' % sweepCount)\n",
    "            print(\">>>>>>>>>> sweep from left to right >>>>>>>>>>\")\n",
    "            # left -> right sweep\n",
    "            for idx in range(1, self._size + 1):\n",
    "                sweepEnergy = self.sweep_at(idx, direction=\"left\")\n",
    "                print(\"site: %2d, energy: %.12f\" %(idx-1, sweepEnergy))\n",
    "            # right -> left sweep\n",
    "            print(\"<<<<<<<<<< sweep from right to left <<<<<<<<<<\")\n",
    "            for idx in range(self._size, 0, -1):\n",
    "                sweepEnergy = self.sweep_at(idx, direction=\"right\")\n",
    "                print(\"site: %2d, energy: %.12f\" %(idx-1, sweepEnergy))\n",
    "            self._iterationEnergies.append(sweepEnergy)\n",
    "        print(\"\\n********** task finished in %d sweep iterations **********\" % sweepCount)\n",
    "        self._gsEnergy = self._iterationEnergies[-1]\n",
    "\n",
    "    @property\n",
    "    def energy(self):\n",
    "        '''\n",
    "        return the ground state energy\n",
    "        '''\n",
    "        return self._gsEnergy\n",
    "   \n",
    "    def mymps(self):\n",
    "        for i in range(0, self._size+2):\n",
    "            print(\"第%d个MPS\"%i)\n",
    "            #return None\n",
    "            print(self._mps[i].shape)\n",
    "        \n",
    "        \n",
    "    def mympo(self):\n",
    "        for i in range(0, self._size+2):\n",
    "            print(\"第%d个MPO\"%i)\n",
    "            print(self._mpo[i])\n",
    "        "
   ]
  },
  {
   "cell_type": "code",
   "execution_count": 75,
   "id": "810535c4",
   "metadata": {
    "scrolled": false,
    "slideshow": {
     "slide_type": "subslide"
    }
   },
   "outputs": [
    {
     "name": "stdout",
     "output_type": "stream",
     "text": [
      "------未右标准化的第0个MPS------\n",
      "(0, 0, 0)\n",
      "------未右标准化的第1个MPS------\n",
      "(1, 2, 50)\n",
      "------未右标准化的第2个MPS------\n",
      "(50, 2, 50)\n",
      "------未右标准化的第3个MPS------\n",
      "(50, 2, 50)\n",
      "------未右标准化的第4个MPS------\n",
      "(50, 2, 1)\n",
      "------未右标准化的第5个MPS------\n",
      "(0, 0, 0)\n",
      "************************\n",
      "------第0个MPO------\n",
      "(0, 0, 0)\n",
      "------第1个MPO------\n",
      "(1, 3, 2, 2)\n",
      "------第2个MPO------\n",
      "(3, 3, 2, 2)\n",
      "------第3个MPO------\n",
      "(3, 3, 2, 2)\n",
      "------第4个MPO------\n",
      "(3, 1, 2, 2)\n",
      "------第5个MPO------\n",
      "(0, 0, 0)\n"
     ]
    }
   ],
   "source": [
    "naiveDMRG = DMRG(mpo, maxM=50)\n",
    "# 输出还未右标准化的 MPS的维度\n",
    "# 输出 MPO的维度"
   ]
  },
  {
   "cell_type": "markdown",
   "id": "53d004f0",
   "metadata": {},
   "source": [
    "注意这里是在构造函数还**未结束**时打印出的MPS和MPO的形状，这时的状态如下图表格中所示。"
   ]
  },
  {
   "cell_type": "markdown",
   "id": "642c2a75",
   "metadata": {
    "slideshow": {
     "slide_type": "fragment"
    }
   },
   "source": [
    "self.right_canonicalize_from(idx=self._size)"
   ]
  },
  {
   "cell_type": "markdown",
   "id": "28aa19f2",
   "metadata": {},
   "source": [
    "实际上在初始化张量网络时，我们会做一次右标准化（构造函数中的self.right_canonicalize_from(idx=self._size)），实现初步降维，简化计算。"
   ]
  },
  {
   "cell_type": "code",
   "execution_count": 76,
   "id": "d4f26d70",
   "metadata": {
    "slideshow": {
     "slide_type": "subslide"
    }
   },
   "outputs": [
    {
     "name": "stdout",
     "output_type": "stream",
     "text": [
      "第0个MPS\n",
      "(0, 0, 0)\n",
      "第1个MPS\n",
      "(1, 2, 8)\n",
      "第2个MPS\n",
      "(8, 2, 4)\n",
      "第3个MPS\n",
      "(4, 2, 2)\n",
      "第4个MPS\n",
      "(2, 2, 1)\n",
      "第5个MPS\n",
      "(0, 0, 0)\n"
     ]
    }
   ],
   "source": [
    "naiveDMRG.mymps()\n",
    "#打印实际我们得到的MPS形状"
   ]
  },
  {
   "cell_type": "code",
   "execution_count": 77,
   "id": "00efff48",
   "metadata": {
    "slideshow": {
     "slide_type": "fragment"
    }
   },
   "outputs": [],
   "source": [
    "#naiveDMRG.mympo()\n",
    "#MPO 是不会改变的"
   ]
  },
  {
   "cell_type": "markdown",
   "id": "4f9e8a25",
   "metadata": {},
   "source": [
    "这时我们的张量网络的形态如下图表格中所示，可以看到MPS维度减少了"
   ]
  },
  {
   "cell_type": "markdown",
   "id": "391502c9",
   "metadata": {
    "slideshow": {
     "slide_type": "fragment"
    }
   },
   "source": [
    "<img src=\"图片/14.jpg\" width = \"900\">"
   ]
  },
  {
   "cell_type": "markdown",
   "id": "11064d47",
   "metadata": {
    "slideshow": {
     "slide_type": "slide"
    }
   },
   "source": [
    "### 开始第一次sweep的第一个点 从左到右\n"
   ]
  },
  {
   "cell_type": "markdown",
   "id": "a5653b65",
   "metadata": {
    "slideshow": {
     "slide_type": "subslide"
    }
   },
   "source": [
    "#### 计算第4个点的TensorF"
   ]
  },
  {
   "cell_type": "code",
   "execution_count": 78,
   "id": "5fc4d423",
   "metadata": {
    "slideshow": {
     "slide_type": "-"
    }
   },
   "outputs": [],
   "source": [
    "def tensorF_at(self, idx): # F = <mps mpo mps>\n",
    "        '''\n",
    "        return (after computing, if it does not exists) the tensor L at site idx\n",
    "        '''\n",
    "        if self._tensorsF[idx] is None: # tensor F for idx does not exist\n",
    "            # compute tensor F for idx\n",
    "            site = self._mps[idx] # local state\n",
    "            operator = self._mpo[idx] # local operator\n",
    "            # compute <site|operator\n",
    "            F = numpy.tensordot(site.data.conj(), operator, axes=[1, 2])\n",
    "            # compute <site|operator|site>\n",
    "            F = numpy.tensordot(F, site.data, axes=[4, 1])\n",
    "            self._tensorsF[idx] = F\n",
    "        return self._tensorsF[idx] "
   ]
  },
  {
   "cell_type": "markdown",
   "id": "f9df959d",
   "metadata": {
    "slideshow": {
     "slide_type": "-"
    }
   },
   "source": [
    "<img src=\"图片/15.jpg\" width = \"900\">"
   ]
  },
  {
   "cell_type": "markdown",
   "id": "d2cf9651",
   "metadata": {
    "slideshow": {
     "slide_type": "subslide"
    }
   },
   "source": [
    "###### 计算第四个点的TensorR"
   ]
  },
  {
   "cell_type": "code",
   "execution_count": 79,
   "id": "14194db9",
   "metadata": {
    "slideshow": {
     "slide_type": "-"
    }
   },
   "outputs": [],
   "source": [
    "def tensorR_at(self, idx):\n",
    "        '''\n",
    "        return (after computing, if it does not exists) the tensor R at site idx\n",
    "        '''\n",
    "        if self._tensorsR[idx] is None: # tensor R for idx does not exist\n",
    "            # compute tensor R for idx\n",
    "            if idx >= self._size: # for the last REAL site, R == F\n",
    "                self._tensorsR[idx] = self.tensorF_at(idx)\n",
    "            else:\n",
    "                rightR = self.tensorR_at(idx + 1) #idx+1 的 tensorR\n",
    "                currentF = self.tensorF_at(idx)   #idx 的 SOS\n",
    "                self._tensorsR[idx] = numpy.tensordot(currentF, rightR, axes=[[1, 3, 5], [0, 2, 4]]).transpose((0, 3, 1, 4, 2, 5))"
   ]
  },
  {
   "cell_type": "markdown",
   "id": "3de531dd",
   "metadata": {
    "slideshow": {
     "slide_type": "-"
    }
   },
   "source": [
    "<img src=\"图片/16.jpg\" width = \"900\">"
   ]
  },
  {
   "cell_type": "markdown",
   "id": "8b5ea5b4",
   "metadata": {
    "slideshow": {
     "slide_type": "subslide"
    }
   },
   "source": [
    "#### 同样的计算出第三个点的TensorF"
   ]
  },
  {
   "cell_type": "markdown",
   "id": "1d8af912",
   "metadata": {
    "slideshow": {
     "slide_type": "-"
    }
   },
   "source": [
    "<img src=\"图片/17.jpg\" width = \"900\">"
   ]
  },
  {
   "cell_type": "markdown",
   "id": "2eedec12",
   "metadata": {
    "slideshow": {
     "slide_type": "subslide"
    }
   },
   "source": [
    "#### 计算第三个的TensorR"
   ]
  },
  {
   "cell_type": "code",
   "execution_count": 80,
   "id": "07d5ff5d",
   "metadata": {
    "slideshow": {
     "slide_type": "-"
    }
   },
   "outputs": [],
   "source": [
    "def tensorR_at(self, idx):\n",
    "        '''\n",
    "        return (after computing, if it does not exists) the tensor R at site idx\n",
    "        '''\n",
    "        if self._tensorsR[idx] is None: # tensor R for idx does not exist\n",
    "            # compute tensor R for idx\n",
    "            if idx >= self._size: # for the last REAL site, R == F\n",
    "                self._tensorsR[idx] = self.tensorF_at(idx)\n",
    "            else:\n",
    "                rightR = self.tensorR_at(idx + 1) #idx+1 的 tensorR\n",
    "                currentF = self.tensorF_at(idx)   #idx 的 SOS\n",
    "                self._tensorsR[idx] = numpy.tensordot(currentF, rightR, axes=[[1, 3, 5], [0, 2, 4]]).transpose((0, 3, 1, 4, 2, 5))"
   ]
  },
  {
   "cell_type": "markdown",
   "id": "e5d83b63",
   "metadata": {
    "slideshow": {
     "slide_type": "-"
    }
   },
   "source": [
    "<img src=\"图片/18.jpg\" width = \"900\">"
   ]
  },
  {
   "cell_type": "markdown",
   "id": "b9a7560f",
   "metadata": {
    "slideshow": {
     "slide_type": "subslide"
    }
   },
   "source": [
    "#### 同样的计算出第二个点的TensorF和TensorR"
   ]
  },
  {
   "cell_type": "markdown",
   "id": "03ececc8",
   "metadata": {
    "slideshow": {
     "slide_type": "-"
    }
   },
   "source": [
    "<img src=\"图片/19.jpg\" width = \"900\">"
   ]
  },
  {
   "cell_type": "markdown",
   "id": "2a0514eb",
   "metadata": {
    "slideshow": {
     "slide_type": "subslide"
    }
   },
   "source": [
    "#### 缩并得到矩阵"
   ]
  },
  {
   "cell_type": "code",
   "execution_count": 81,
   "id": "459587a6",
   "metadata": {
    "slideshow": {
     "slide_type": "-"
    }
   },
   "outputs": [],
   "source": [
    "def variational_tensor_at(self, idx):\n",
    "        '''\n",
    "        compute the variational tensor\n",
    "        '''\n",
    "        site = self._mps[idx]\n",
    "        operator = self._mpo[idx]\n",
    "        # step 1\n",
    "        result = numpy.tensordot(self.tensorL_at(idx-1), operator, axes=[3, 0])  \n",
    "        # idx = 1 tensorL_at是[[[[[[1]]]]]], operatot=mpo最后一行（1，3，2，2）， axes=[3,0]表示tensorL的第4个维度与operator的第1个维度缩并。\n",
    "        #result (1,1,1,1,1,3,2,2)\n",
    "\n",
    "        # step 2\n",
    "        result = numpy.tensordot(result, self.tensorR_at(idx+1), axes=[5, 2])\n",
    "        #tensorR (m,1,3,1,m,1)   计算得到result (1,1,1,1,1,2,2,m,1,1,m,1)\n",
    "        \n",
    "        # reshape\n",
    "        result = result.reshape((site.left, site.left, site.phys, site.phys, site.right, site.right))\n",
    "        # reorder the indices\n",
    "        return result.transpose((0, 2, 4, 1, 3, 5))"
   ]
  },
  {
   "cell_type": "markdown",
   "id": "7c7504a7",
   "metadata": {
    "slideshow": {
     "slide_type": "-"
    }
   },
   "source": [
    "<img src=\"图片/20.jpg\" width = \"900\">"
   ]
  },
  {
   "cell_type": "markdown",
   "id": "e38bf25b",
   "metadata": {
    "slideshow": {
     "slide_type": "subslide"
    }
   },
   "source": [
    "#### 求解矩阵特征值和特征向量"
   ]
  },
  {
   "cell_type": "code",
   "execution_count": 82,
   "id": "583cc1f4",
   "metadata": {
    "slideshow": {
     "slide_type": "-"
    }
   },
   "outputs": [],
   "source": [
    "def sweep_at(self, idx, direction):\n",
    "        assert direction == \"left\" or direction == \"right\"\n",
    "        site = self._mps[idx]\n",
    "        localDimension = site.left * site.phys * site.right\n",
    "        # reshape the variational tensor to a square matrix\n",
    "        variationalTensor = self.variational_tensor_at(idx).reshape((localDimension, localDimension))\n",
    "        # solve for eigen values and vectors\n",
    "        eigVal, eigVec = numpy.linalg.eigh(variationalTensor)\n",
    "        # update current site\n",
    "        self.update_local_site(idx, newState=eigVec[:,0].reshape(site.shape))\n",
    "        # normalization\n",
    "        if direction == \"left\":\n",
    "            self.left_canonicalize_at(idx)\n",
    "        else: # direction == \"right\"\n",
    "            self.right_canonicalize_at(idx)\n",
    "        # return the ground state energy\n",
    "        return eigVal[0]\n"
   ]
  },
  {
   "cell_type": "markdown",
   "id": "e584f6d6",
   "metadata": {},
   "source": [
    "<img src=\"图片/21.jpg\" width = \"900\">"
   ]
  },
  {
   "cell_type": "markdown",
   "id": "a251ebbd",
   "metadata": {
    "slideshow": {
     "slide_type": "subslide"
    }
   },
   "source": [
    "#### 将最小的特征值对应的特征向量作为第一个点的MPS，输出最小的特征值作为第一次计算的结果"
   ]
  },
  {
   "cell_type": "code",
   "execution_count": 83,
   "id": "e7cf1ad6",
   "metadata": {},
   "outputs": [],
   "source": [
    "def sweep_at(self, idx, direction):\n",
    "        assert direction == \"left\" or direction == \"right\"\n",
    "        site = self._mps[idx]\n",
    "        localDimension = site.left * site.phys * site.right\n",
    "        # reshape the variational tensor to a square matrix\n",
    "        variationalTensor = self.variational_tensor_at(idx).reshape((localDimension, localDimension))\n",
    "        # solve for eigen values and vectors\n",
    "        eigVal, eigVec = numpy.linalg.eigh(variationalTensor)\n",
    "        # update current site\n",
    "        self.update_local_site(idx, newState=eigVec[:,0].reshape(site.shape))\n",
    "        # normalization\n",
    "        if direction == \"left\":\n",
    "            self.left_canonicalize_at(idx)\n",
    "        else: # direction == \"right\"\n",
    "            self.right_canonicalize_at(idx)\n",
    "        # return the ground state energy\n",
    "        return eigVal[0]"
   ]
  },
  {
   "cell_type": "markdown",
   "id": "88ee87fd",
   "metadata": {},
   "source": [
    "<img src=\"图片/22.jpg\" width = \"900\">"
   ]
  },
  {
   "cell_type": "markdown",
   "id": "e7909074",
   "metadata": {
    "slideshow": {
     "slide_type": "subslide"
    }
   },
   "source": [
    "#### 对整个MPS做左标准化处理，并更新MPS"
   ]
  },
  {
   "cell_type": "code",
   "execution_count": 84,
   "id": "e2178c5d",
   "metadata": {
    "slideshow": {
     "slide_type": "-"
    }
   },
   "outputs": [],
   "source": [
    " def left_canonicalize_at(self, idx):\n",
    "        if idx >= self._size:\n",
    "            return\n",
    "        u, s, vh = self._mps[idx].truncate(direction=\"left\", maxM=self._maxM)\n",
    "        # update local sites pos and pos+1\n",
    "        self.update_local_site(idx, newState=u.reshape((self._mps[idx].left, self._mps[idx].phys, -1)))\n",
    "        # the next site is on the right of the current site\n",
    "        self.update_local_site(idx+1, newState=numpy.tensordot(numpy.dot(numpy.diag(s), vh), self._mps[idx+1].data, axes=[1, 0]))\n"
   ]
  },
  {
   "cell_type": "markdown",
   "id": "05e9f3e3",
   "metadata": {
    "slideshow": {
     "slide_type": "-"
    }
   },
   "source": [
    "<img src=\"图片/23.jpg\" width = \"900\">"
   ]
  },
  {
   "cell_type": "code",
   "execution_count": 85,
   "id": "69e1a8ca",
   "metadata": {
    "slideshow": {
     "slide_type": "subslide"
    }
   },
   "outputs": [],
   "source": [
    " def update_local_site(self, idx, newState):\n",
    "        self._mps[idx].update(newState)\n",
    "        # since the current site has changed,\n",
    "        # tensor F at the current site need to be updated.\n",
    "        self._tensorsF[idx] = None\n",
    "        # the current site has influence on the tensor L of all the sites on its right\n",
    "        for i in range(idx + 1, self._size + 1):\n",
    "            if self._tensorsL[i] is None:\n",
    "                break\n",
    "            self._tensorsL[i] = None\n",
    "        # on the tensor R of all the sites on its left\n",
    "        for i in range(idx - 1, 0, -1):\n",
    "            if self._tensorsR[i] is None:\n",
    "                break\n",
    "            self._tensorsR[i] = None"
   ]
  },
  {
   "cell_type": "markdown",
   "id": "087b9143",
   "metadata": {
    "slideshow": {
     "slide_type": "-"
    }
   },
   "source": [
    "<img src=\"图片/24.jpg\" width = \"900\">"
   ]
  },
  {
   "cell_type": "markdown",
   "id": "f0fc17d1",
   "metadata": {
    "slideshow": {
     "slide_type": "subslide"
    }
   },
   "source": [
    "### 运行程序"
   ]
  },
  {
   "cell_type": "code",
   "execution_count": 86,
   "id": "26221d9a",
   "metadata": {
    "slideshow": {
     "slide_type": "-"
    }
   },
   "outputs": [],
   "source": [
    "def run(self):\n",
    "        '''\n",
    "        run DMRG calculation and search for the ground state.\n",
    "        '''\n",
    "        sweepCount = 0\n",
    "        sweepEnergy = 0.0\n",
    "        print(\"********* naive DMRG for spin model *********\")\n",
    "        #while sweepCount < 2 or not numpy.isclose(self._iterationEnergies[-1], self._iterationEnergies[-2]):\n",
    "        while sweepCount < 2 or not numpy.isclose(self._iterationEnergies[-1], self._iterationEnergies[-2]):\n",
    "        #表示至少sweep 2次， 直到迭代的能量收敛。\n",
    "            sweepCount += 1\n",
    "            print('\\n*************** sweep: %d ***************' % sweepCount)\n",
    "            print(\">>>>>>>>>> sweep from left to right >>>>>>>>>>\")\n",
    "            # left -> right sweep\n",
    "            for idx in range(1, self._size + 1):\n",
    "                sweepEnergy = self.sweep_at(idx, direction=\"left\")\n",
    "                print(\"site: %2d, energy: %.12f\" %(idx-1, sweepEnergy))\n",
    "            # right -> left sweep\n",
    "            print(\"<<<<<<<<<< sweep from right to left <<<<<<<<<<\")\n",
    "            for idx in range(self._size, 0, -1):\n",
    "                sweepEnergy = self.sweep_at(idx, direction=\"right\")\n",
    "                print(\"site: %2d, energy: %.12f\" %(idx-1, sweepEnergy))\n",
    "            self._iterationEnergies.append(sweepEnergy)\n",
    "        print(\"\\n********** task finished in %d sweep iterations **********\" % sweepCount)\n",
    "        self._gsEnergy = self._iterationEnergies[-1]"
   ]
  },
  {
   "cell_type": "code",
   "execution_count": 87,
   "id": "646946be",
   "metadata": {
    "slideshow": {
     "slide_type": "-"
    }
   },
   "outputs": [
    {
     "name": "stdout",
     "output_type": "stream",
     "text": [
      "********* naive DMRG for spin model *********\n",
      "\n",
      "*************** sweep: 1 ***************\n",
      ">>>>>>>>>> sweep from left to right >>>>>>>>>>\n",
      "site:  0, energy: -2.094199659213\n",
      "site:  1, energy: -2.094199659213\n",
      "site:  2, energy: -2.094199659213\n",
      "site:  3, energy: -2.094199659213\n",
      "<<<<<<<<<< sweep from right to left <<<<<<<<<<\n",
      "site:  3, energy: -2.094199659213\n",
      "site:  2, energy: -2.094199659213\n",
      "site:  1, energy: -2.094199659213\n",
      "site:  0, energy: -2.094199659213\n",
      "\n",
      "*************** sweep: 2 ***************\n",
      ">>>>>>>>>> sweep from left to right >>>>>>>>>>\n",
      "site:  0, energy: -2.094199659213\n",
      "site:  1, energy: -2.094199659213\n",
      "site:  2, energy: -2.094199659213\n",
      "site:  3, energy: -2.094199659213\n",
      "<<<<<<<<<< sweep from right to left <<<<<<<<<<\n",
      "site:  3, energy: -2.094199659213\n",
      "site:  2, energy: -2.094199659213\n",
      "site:  1, energy: -2.094199659213\n",
      "site:  0, energy: -2.094199659213\n",
      "\n",
      "********** task finished in 2 sweep iterations **********\n",
      "--> DMRG energy:  -2.09419965921259\n"
     ]
    }
   ],
   "source": [
    "naiveDMRG.run()\n",
    "print(\"--> DMRG energy: \", naiveDMRG.energy)\n",
    "# 这里是把整个运行过程打印出来了，我们目前所演示的只是sweep1 site0 算的能量。"
   ]
  },
  {
   "cell_type": "markdown",
   "id": "40319128",
   "metadata": {
    "slideshow": {
     "slide_type": "slide"
    }
   },
   "source": [
    "之后以此类推，不停的从左向右，在从右向左进行sweep, 直到结果收敛为止，如上面运行结果所示。因为我们的程序设定是至少sweep两次，因此我们打印出了2次sweep的结果，但我们可以看到因为体系简单，能量值早在第一次sweep时就已经收敛了"
   ]
  },
  {
   "cell_type": "markdown",
   "id": "73d32b9a",
   "metadata": {},
   "source": [
    "## 测试"
   ]
  },
  {
   "cell_type": "markdown",
   "id": "954575d0",
   "metadata": {
    "slideshow": {
     "slide_type": "slide"
    }
   },
   "source": [
    "### N=4"
   ]
  },
  {
   "cell_type": "code",
   "execution_count": 68,
   "id": "57391bbd",
   "metadata": {
    "slideshow": {
     "slide_type": "-"
    }
   },
   "outputs": [
    {
     "name": "stdout",
     "output_type": "stream",
     "text": [
      "------未右标准化的第0个MPS------\n",
      "(0, 0, 0)\n",
      "------未右标准化的第1个MPS------\n",
      "(1, 2, 50)\n",
      "------未右标准化的第2个MPS------\n",
      "(50, 2, 50)\n",
      "------未右标准化的第3个MPS------\n",
      "(50, 2, 50)\n",
      "------未右标准化的第4个MPS------\n",
      "(50, 2, 1)\n",
      "------未右标准化的第5个MPS------\n",
      "(0, 0, 0)\n",
      "************************\n",
      "------第0个MPO------\n",
      "(0, 0, 0)\n",
      "------第1个MPO------\n",
      "(1, 3, 2, 2)\n",
      "------第2个MPO------\n",
      "(3, 3, 2, 2)\n",
      "------第3个MPO------\n",
      "(3, 3, 2, 2)\n",
      "------第4个MPO------\n",
      "(3, 1, 2, 2)\n",
      "------第5个MPO------\n",
      "(0, 0, 0)\n",
      "************右标准化后的MPS*************\n",
      "第0个MPS\n",
      "(0, 0, 0)\n",
      "第1个MPS\n",
      "(1, 2, 8)\n",
      "第2个MPS\n",
      "(8, 2, 4)\n",
      "第3个MPS\n",
      "(4, 2, 2)\n",
      "第4个MPS\n",
      "(2, 2, 1)\n",
      "第5个MPS\n",
      "(0, 0, 0)\n",
      "********* naive DMRG for spin model *********\n",
      "\n",
      "*************** sweep: 1 ***************\n",
      ">>>>>>>>>> sweep from left to right >>>>>>>>>>\n",
      "site:  0, energy: -2.094199659213\n",
      "site:  1, energy: -2.094199659213\n",
      "site:  2, energy: -2.094199659213\n",
      "site:  3, energy: -2.094199659213\n",
      "<<<<<<<<<< sweep from right to left <<<<<<<<<<\n",
      "site:  3, energy: -2.094199659213\n",
      "site:  2, energy: -2.094199659213\n",
      "site:  1, energy: -2.094199659213\n",
      "site:  0, energy: -2.094199659213\n",
      "\n",
      "*************** sweep: 2 ***************\n",
      ">>>>>>>>>> sweep from left to right >>>>>>>>>>\n",
      "site:  0, energy: -2.094199659213\n",
      "site:  1, energy: -2.094199659213\n",
      "site:  2, energy: -2.094199659213\n",
      "site:  3, energy: -2.094199659213\n",
      "<<<<<<<<<< sweep from right to left <<<<<<<<<<\n",
      "site:  3, energy: -2.094199659213\n",
      "site:  2, energy: -2.094199659213\n",
      "site:  1, energy: -2.094199659213\n",
      "site:  0, energy: -2.094199659213\n",
      "\n",
      "********** task finished in 2 sweep iterations **********\n",
      "使用DMRG计算所用时间为： 0.046875\n",
      "--> DMRG energy:  -2.094199659212591\n"
     ]
    }
   ],
   "source": [
    "nSite = 4\n",
    "mpo = MPO(local_operator(), nSite)\n",
    "naiveDMRG = DMRG(mpo, maxM=50)\n",
    "print(\"************右标准化后的MPS*************\")\n",
    "naiveDMRG.mymps()\n",
    "#print(\"************预处理后的MPO*************\")\n",
    "#naiveDMRG.mympo()\n",
    "\n",
    "t0 = time.process_time()\n",
    "naiveDMRG.run()\n",
    "t1 = time.process_time()\n",
    "print(\"使用DMRG计算所用时间为：\",t1 - t0)\n",
    "print(\"--> DMRG energy: \", naiveDMRG.energy)"
   ]
  },
  {
   "cell_type": "markdown",
   "id": "7cc93ca4",
   "metadata": {
    "slideshow": {
     "slide_type": "slide"
    }
   },
   "source": [
    "### N=10"
   ]
  },
  {
   "cell_type": "markdown",
   "id": "8de57fd3",
   "metadata": {},
   "source": [
    "这个例子可以让我们看到M的作用和初始化是右标准化的作用"
   ]
  },
  {
   "cell_type": "code",
   "execution_count": 62,
   "id": "1b0b288a",
   "metadata": {
    "scrolled": true,
    "slideshow": {
     "slide_type": "-"
    }
   },
   "outputs": [
    {
     "name": "stdout",
     "output_type": "stream",
     "text": [
      "------未右标准化的第0个MPS------\n",
      "(0, 0, 0)\n",
      "------未右标准化的第1个MPS------\n",
      "(1, 2, 50)\n",
      "------未右标准化的第2个MPS------\n",
      "(50, 2, 50)\n",
      "------未右标准化的第3个MPS------\n",
      "(50, 2, 50)\n",
      "------未右标准化的第4个MPS------\n",
      "(50, 2, 50)\n",
      "------未右标准化的第5个MPS------\n",
      "(50, 2, 50)\n",
      "------未右标准化的第6个MPS------\n",
      "(50, 2, 50)\n",
      "------未右标准化的第7个MPS------\n",
      "(50, 2, 50)\n",
      "------未右标准化的第8个MPS------\n",
      "(50, 2, 50)\n",
      "------未右标准化的第9个MPS------\n",
      "(50, 2, 50)\n",
      "------未右标准化的第10个MPS------\n",
      "(50, 2, 1)\n",
      "------未右标准化的第11个MPS------\n",
      "(0, 0, 0)\n",
      "************************\n",
      "------第0个MPO------\n",
      "(0, 0, 0)\n",
      "------第1个MPO------\n",
      "(1, 3, 2, 2)\n",
      "------第2个MPO------\n",
      "(3, 3, 2, 2)\n",
      "------第3个MPO------\n",
      "(3, 3, 2, 2)\n",
      "------第4个MPO------\n",
      "(3, 3, 2, 2)\n",
      "------第5个MPO------\n",
      "(3, 3, 2, 2)\n",
      "------第6个MPO------\n",
      "(3, 3, 2, 2)\n",
      "------第7个MPO------\n",
      "(3, 3, 2, 2)\n",
      "------第8个MPO------\n",
      "(3, 3, 2, 2)\n",
      "------第9个MPO------\n",
      "(3, 3, 2, 2)\n",
      "------第10个MPO------\n",
      "(3, 1, 2, 2)\n",
      "------第11个MPO------\n",
      "(0, 0, 0)\n",
      "************右标准化后的MPS*************\n",
      "第0个MPS\n",
      "(0, 0, 0)\n",
      "第1个MPS\n",
      "(1, 2, 50)\n",
      "第2个MPS\n",
      "(50, 2, 50)\n",
      "第3个MPS\n",
      "(50, 2, 50)\n",
      "第4个MPS\n",
      "(50, 2, 50)\n",
      "第5个MPS\n",
      "(50, 2, 32)\n",
      "第6个MPS\n",
      "(32, 2, 16)\n",
      "第7个MPS\n",
      "(16, 2, 8)\n",
      "第8个MPS\n",
      "(8, 2, 4)\n",
      "第9个MPS\n",
      "(4, 2, 2)\n",
      "第10个MPS\n",
      "(2, 2, 1)\n",
      "第11个MPS\n",
      "(0, 0, 0)\n",
      "********* naive DMRG for spin model *********\n",
      "\n",
      "*************** sweep: 1 ***************\n",
      ">>>>>>>>>> sweep from left to right >>>>>>>>>>\n",
      "site:  0, energy: -5.164053676685\n",
      "site:  1, energy: -5.194601874639\n",
      "site:  2, energy: -5.225617929757\n",
      "site:  3, energy: -5.263094725343\n",
      "site:  4, energy: -5.284829778908\n",
      "site:  5, energy: -5.284829778908\n",
      "site:  6, energy: -5.284829778908\n",
      "site:  7, energy: -5.284829778908\n",
      "site:  8, energy: -5.284829778908\n",
      "site:  9, energy: -5.284829778908\n",
      "<<<<<<<<<< sweep from right to left <<<<<<<<<<\n",
      "site:  9, energy: -5.284829778908\n",
      "site:  8, energy: -5.284829778908\n",
      "site:  7, energy: -5.284829778908\n",
      "site:  6, energy: -5.284829778908\n",
      "site:  5, energy: -5.284829778908\n",
      "site:  4, energy: -5.284829778908\n",
      "site:  3, energy: -5.284829778908\n",
      "site:  2, energy: -5.284829778908\n",
      "site:  1, energy: -5.284829778908\n",
      "site:  0, energy: -5.284829778908\n",
      "\n",
      "*************** sweep: 2 ***************\n",
      ">>>>>>>>>> sweep from left to right >>>>>>>>>>\n",
      "site:  0, energy: -5.284829778908\n",
      "site:  1, energy: -5.284829778908\n",
      "site:  2, energy: -5.284829778908\n",
      "site:  3, energy: -5.284829778908\n",
      "site:  4, energy: -5.284829778908\n",
      "site:  5, energy: -5.284829778908\n",
      "site:  6, energy: -5.284829778908\n",
      "site:  7, energy: -5.284829778908\n",
      "site:  8, energy: -5.284829778908\n",
      "site:  9, energy: -5.284829778908\n",
      "<<<<<<<<<< sweep from right to left <<<<<<<<<<\n",
      "site:  9, energy: -5.284829778908\n",
      "site:  8, energy: -5.284829778908\n",
      "site:  7, energy: -5.284829778908\n",
      "site:  6, energy: -5.284829778908\n",
      "site:  5, energy: -5.284829778908\n",
      "site:  4, energy: -5.284829778908\n",
      "site:  3, energy: -5.284829778908\n",
      "site:  2, energy: -5.284829778908\n",
      "site:  1, energy: -5.284829778908\n",
      "site:  0, energy: -5.284829778908\n",
      "\n",
      "********** task finished in 2 sweep iterations **********\n",
      "使用DMRG计算所用时间为： 14.890625\n",
      "--> DMRG energy:  -5.284829778907794\n"
     ]
    }
   ],
   "source": [
    "nSite = 10\n",
    "mpo = MPO(local_operator(), nSite)\n",
    "naiveDMRG = DMRG(mpo, maxM=50)\n",
    "print(\"************右标准化后的MPS*************\")\n",
    "naiveDMRG.mymps()\n",
    "#print(\"************预处理后的MPO*************\")\n",
    "#naiveDMRG.mympo()\n",
    "\n",
    "t2 = time.process_time()\n",
    "naiveDMRG.run()\n",
    "t3 = time.process_time()\n",
    "print(\"使用DMRG计算所用时间为：\",t3 - t2)\n",
    "print(\"--> DMRG energy: \", naiveDMRG.energy)"
   ]
  },
  {
   "cell_type": "markdown",
   "id": "4aa49e69",
   "metadata": {
    "slideshow": {
     "slide_type": "slide"
    }
   },
   "source": [
    "### N=15"
   ]
  },
  {
   "cell_type": "markdown",
   "id": "496232c2",
   "metadata": {},
   "source": [
    "时间过久，这里给出我的运行结果截图"
   ]
  },
  {
   "cell_type": "code",
   "execution_count": 1,
   "id": "2b068043",
   "metadata": {
    "scrolled": true,
    "slideshow": {
     "slide_type": "-"
    }
   },
   "outputs": [],
   "source": [
    "#nSite = 15\n",
    "#mpo = MPO(local_operator(), nSite)\n",
    "#naiveDMRG = DMRG(mpo, maxM=50)\n",
    "#print(\"************预处理后的MPS*************\")\n",
    "#naiveDMRG.mymps()\n",
    "#print(\"************预处理后的MPO*************\")\n",
    "#naiveDMRG.mympo()\n",
    "\n",
    "#t2 = time.process_time()\n",
    "#naiveDMRG.run()\n",
    "#t3 = time.process_time()\n",
    "#print(\"使用DMRG计算所用时间为：\",t3 - t2)\n",
    "#print(\"--> DMRG energy: \", naiveDMRG.energy)"
   ]
  },
  {
   "cell_type": "markdown",
   "id": "f574436f",
   "metadata": {
    "slideshow": {
     "slide_type": "subslide"
    }
   },
   "source": [
    "<img src=\"图片/35.jpg\" width = \"400\">"
   ]
  },
  {
   "cell_type": "markdown",
   "id": "b00939fb",
   "metadata": {
    "slideshow": {
     "slide_type": "subslide"
    }
   },
   "source": [
    "<img src=\"图片/34.jpg\" width = \"500\">"
   ]
  },
  {
   "cell_type": "markdown",
   "id": "f5f99264",
   "metadata": {},
   "source": [
    "## CI程序"
   ]
  },
  {
   "cell_type": "markdown",
   "id": "cab7c26f",
   "metadata": {},
   "source": [
    "我们这里给出简单的CI程序并运行计算ising模型基态能量，与DMRG程序结果进行对比。"
   ]
  },
  {
   "cell_type": "markdown",
   "id": "233570e6",
   "metadata": {},
   "source": [
    "**<center>一维ising模型的Hamitonian已知</center>**\n",
    "$$\\hat{H} = -J\\sum_{i}s_is_{i+1} - B\\sum_i s_i $$"
   ]
  },
  {
   "cell_type": "markdown",
   "id": "3e3b4dfb",
   "metadata": {
    "slideshow": {
     "slide_type": "fragment"
    }
   },
   "source": [
    " 例如：当格点数为 4 时， Hamitonian可以写成：\n",
    " $$H = -\\sigma_1^z\\otimes \\sigma_2^z \\otimes I_3 \\otimes I_4 - I_1\\otimes \\sigma_2^z \\otimes \\sigma_3^z \\otimes I_4 - I_1 \\otimes I_2 \\otimes \\sigma_3^z \\otimes \\sigma_4^z - \\sigma_1^x \\otimes I_2\\otimes I_3\\otimes I_4 - I_1\\otimes \\sigma_2^x \\otimes I_3\\otimes I_4 - I_1\\otimes I_2\\otimes \\sigma_3^x \\otimes I_4 - I_1\\otimes I_2\\otimes I_3\\otimes \\sigma_4^x $$"
   ]
  },
  {
   "cell_type": "markdown",
   "id": "b24acaec",
   "metadata": {},
   "source": [
    "**我们的任务**：把H写出来，然后写出H在自旋表象下 (|0000> ,|0001>,...,|1111> 16个基下)的H矩阵,对角化H矩阵即可得到基态能量。"
   ]
  },
  {
   "cell_type": "code",
   "execution_count": 89,
   "id": "c4245161",
   "metadata": {},
   "outputs": [],
   "source": [
    "import numpy as np\n",
    "import time\n",
    "# Sx measurement\n",
    "Sx = np.float64([[0,   0.5],\n",
    "                    [0.5, 0  ]])\n",
    "\n",
    "# Sz measurement\n",
    "Sz = np.float64([[0.5,  0   ],\n",
    "                    [0,   -0.5]])"
   ]
  },
  {
   "cell_type": "markdown",
   "id": "5c034fe8",
   "metadata": {},
   "source": [
    "### 写出自旋表象下的H矩阵\n",
    "$$\\hat{H} = -J\\sum_{i}\\sigma_i^z\\sigma_{i+1}^z - B\\sum_i \\sigma_i^x $$"
   ]
  },
  {
   "cell_type": "code",
   "execution_count": 90,
   "id": "78fbe1b7",
   "metadata": {},
   "outputs": [],
   "source": [
    "# 生成L个格点的H矩阵， 默认J = B = 1， 因为我们可以直接写出自旋表象下的H矩阵，所以没有使用<000|H|000>这种写法，效果是一样的。\n",
    "def Ham(L): \n",
    "    I = np.eye(2)\n",
    "    e = 2**L\n",
    "    J = np.zeros((e,e))\n",
    "    #print(J)\n",
    "    B = np.zeros((e,e))\n",
    "    \n",
    "    #计算相互作用矩阵，注意维度为2**L, 要张量积其他格点单位矩阵\n",
    "    for i in range(0, L-1):\n",
    "        _Jz = 1\n",
    "        for j in range(0, i):\n",
    "            _Jz = np.kron(_Jz, I)\n",
    "        if(i > L-2):\n",
    "            _Jz = np.kron(_Jz,-Sz)\n",
    "        else:\n",
    "            _Jz = np.kron(np.kron(_Jz,-Sz),Sz)\n",
    "        for k in range(i+2, L):\n",
    "            _Jz = np.kron(_Jz, I)\n",
    "            #print(\"**JZ\")\n",
    "            #print(_Jz)\n",
    "        J += _Jz\n",
    "        #print(J)\n",
    "              \n",
    "    #计算外场作用的矩阵，也要张量积其他格点单位矩阵\n",
    "    for i in range(0, L):\n",
    "        _Bx = 1\n",
    "        for j in range(0, i):\n",
    "            _Bx = np.kron(_Bx, I)\n",
    "        _Bx = np.kron(_Bx,Sx)\n",
    "        for j in range(i+1, L):\n",
    "            _Bx = np.kron(_Bx, I)\n",
    "        B += _Bx     \n",
    "    return J-B\n",
    "        "
   ]
  },
  {
   "cell_type": "code",
   "execution_count": 91,
   "id": "27acccc8",
   "metadata": {},
   "outputs": [],
   "source": [
    "def run(L):\n",
    "    H = Ham(L)\n",
    "    print(\"H矩阵为：\\n\",H)\n",
    "    eigVal, eigVec = np.linalg.eigh(H)\n",
    "    return eigVal"
   ]
  },
  {
   "cell_type": "markdown",
   "id": "9180fab9",
   "metadata": {},
   "source": [
    "### 测试N = 4"
   ]
  },
  {
   "cell_type": "code",
   "execution_count": 92,
   "id": "bc25bb19",
   "metadata": {},
   "outputs": [
    {
     "name": "stdout",
     "output_type": "stream",
     "text": [
      "H矩阵为：\n",
      " [[-0.75 -0.5  -0.5   0.   -0.5   0.    0.    0.   -0.5   0.    0.    0.\n",
      "   0.    0.    0.    0.  ]\n",
      " [-0.5  -0.25  0.   -0.5   0.   -0.5   0.    0.    0.   -0.5   0.    0.\n",
      "   0.    0.    0.    0.  ]\n",
      " [-0.5   0.    0.25 -0.5   0.    0.   -0.5   0.    0.    0.   -0.5   0.\n",
      "   0.    0.    0.    0.  ]\n",
      " [ 0.   -0.5  -0.5  -0.25  0.    0.    0.   -0.5   0.    0.    0.   -0.5\n",
      "   0.    0.    0.    0.  ]\n",
      " [-0.5   0.    0.    0.    0.25 -0.5  -0.5   0.    0.    0.    0.    0.\n",
      "  -0.5   0.    0.    0.  ]\n",
      " [ 0.   -0.5   0.    0.   -0.5   0.75  0.   -0.5   0.    0.    0.    0.\n",
      "   0.   -0.5   0.    0.  ]\n",
      " [ 0.    0.   -0.5   0.   -0.5   0.    0.25 -0.5   0.    0.    0.    0.\n",
      "   0.    0.   -0.5   0.  ]\n",
      " [ 0.    0.    0.   -0.5   0.   -0.5  -0.5  -0.25  0.    0.    0.    0.\n",
      "   0.    0.    0.   -0.5 ]\n",
      " [-0.5   0.    0.    0.    0.    0.    0.    0.   -0.25 -0.5  -0.5   0.\n",
      "  -0.5   0.    0.    0.  ]\n",
      " [ 0.   -0.5   0.    0.    0.    0.    0.    0.   -0.5   0.25  0.   -0.5\n",
      "   0.   -0.5   0.    0.  ]\n",
      " [ 0.    0.   -0.5   0.    0.    0.    0.    0.   -0.5   0.    0.75 -0.5\n",
      "   0.    0.   -0.5   0.  ]\n",
      " [ 0.    0.    0.   -0.5   0.    0.    0.    0.    0.   -0.5  -0.5   0.25\n",
      "   0.    0.    0.   -0.5 ]\n",
      " [ 0.    0.    0.    0.   -0.5   0.    0.    0.   -0.5   0.    0.    0.\n",
      "  -0.25 -0.5  -0.5   0.  ]\n",
      " [ 0.    0.    0.    0.    0.   -0.5   0.    0.    0.   -0.5   0.    0.\n",
      "  -0.5   0.25  0.   -0.5 ]\n",
      " [ 0.    0.    0.    0.    0.    0.   -0.5   0.    0.    0.   -0.5   0.\n",
      "  -0.5   0.   -0.25 -0.5 ]\n",
      " [ 0.    0.    0.    0.    0.    0.    0.   -0.5   0.    0.    0.   -0.5\n",
      "   0.   -0.5  -0.5  -0.75]]\n",
      "使用CI计算所用时间为： 0.015625\n",
      "计算得到精确解为： -2.09419965921259\n"
     ]
    }
   ],
   "source": [
    "t0 = time.process_time()\n",
    "out = run(4)\n",
    "t1 = time.process_time()\n",
    "print(\"使用CI计算所用时间为：\",t1 - t0)\n",
    "print(\"计算得到精确解为：\",out[0])"
   ]
  },
  {
   "cell_type": "markdown",
   "id": "4eadf472",
   "metadata": {},
   "source": [
    "对比DMRG结果\n",
    "<img src=\"图片/42.jpg\" width = \"400\">"
   ]
  },
  {
   "cell_type": "markdown",
   "id": "75b6b919",
   "metadata": {},
   "source": [
    "### 测试N = 10"
   ]
  },
  {
   "cell_type": "code",
   "execution_count": 93,
   "id": "5348a4f9",
   "metadata": {},
   "outputs": [
    {
     "name": "stdout",
     "output_type": "stream",
     "text": [
      "H矩阵为：\n",
      " [[-2.25 -0.5  -0.5  ...  0.    0.    0.  ]\n",
      " [-0.5  -1.75  0.   ...  0.    0.    0.  ]\n",
      " [-0.5   0.   -1.25 ...  0.    0.    0.  ]\n",
      " ...\n",
      " [ 0.    0.    0.   ... -1.25  0.   -0.5 ]\n",
      " [ 0.    0.    0.   ...  0.   -1.75 -0.5 ]\n",
      " [ 0.    0.    0.   ... -0.5  -0.5  -2.25]]\n",
      "使用CI计算所用时间为： 2.046875\n",
      "计算得到精确解为： -5.284829778907801\n"
     ]
    }
   ],
   "source": [
    "t0 = time.process_time()\n",
    "out = run(10)\n",
    "t1 = time.process_time()\n",
    "print(\"使用CI计算所用时间为：\",t1 - t0)\n",
    "print(\"计算得到精确解为：\",out[0])"
   ]
  },
  {
   "cell_type": "markdown",
   "id": "c9a7a08a",
   "metadata": {},
   "source": [
    "对比DMRG结果\n",
    "<img src=\"图片/43.jpg\" width = \"400\">"
   ]
  },
  {
   "cell_type": "markdown",
   "id": "af1fe007",
   "metadata": {},
   "source": [
    "### 测试N = 15, （内存所需过大，可能会报错，我的运行结果见下图）"
   ]
  },
  {
   "cell_type": "code",
   "execution_count": 52,
   "id": "7bcc397b",
   "metadata": {},
   "outputs": [],
   "source": [
    "#t0 = time.process_time()\n",
    "#out = run(15)\n",
    "#t1 = time.process_time()\n",
    "#print(\"使用CI计算所用时间为：\",t1 - t0)\n",
    "#print(\"计算得到精确解为：\",out[1])"
   ]
  },
  {
   "cell_type": "markdown",
   "id": "55e1413a",
   "metadata": {},
   "source": [
    "<img src=\"图片/36.jpg\" width = \"600\">"
   ]
  },
  {
   "cell_type": "markdown",
   "id": "ec2efc0e",
   "metadata": {},
   "source": [
    "## 总结"
   ]
  },
  {
   "cell_type": "markdown",
   "id": "71ceed9c",
   "metadata": {
    "slideshow": {
     "slide_type": "-"
    }
   },
   "source": [
    "虽然DMRG看上去比CI方法使用的时间比较长，但实际我们看到早在第一次sweep的时候就收敛了，当体系较大时，FCI就因为内存不足而无法计算，这时DMRG的优势就体现出来了。"
   ]
  },
  {
   "cell_type": "code",
   "execution_count": null,
   "id": "c4dd9bec",
   "metadata": {},
   "outputs": [],
   "source": []
  }
 ],
 "metadata": {
  "celltoolbar": "原始单元格格式",
  "kernelspec": {
   "display_name": "Python 3 (ipykernel)",
   "language": "python",
   "name": "python3"
  },
  "language_info": {
   "codemirror_mode": {
    "name": "ipython",
    "version": 3
   },
   "file_extension": ".py",
   "mimetype": "text/x-python",
   "name": "python",
   "nbconvert_exporter": "python",
   "pygments_lexer": "ipython3",
   "version": "3.8.10"
  }
 },
 "nbformat": 4,
 "nbformat_minor": 5
}
